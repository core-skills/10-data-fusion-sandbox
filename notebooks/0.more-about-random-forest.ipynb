{
 "cells": [
  {
   "cell_type": "markdown",
   "id": "48648f0c",
   "metadata": {},
   "source": [
    " # More About Random Forest\n",
    " \n",
    "In this notebook, we will explore two topics: \n",
    "\n",
    "1. How to \"measure\" the relative importance of the features in our data:\n",
    "     * Random forest feature importance\n",
    "     * Permutation importance\n",
    "2. Visualizing the decision tree of a trained classifier\n",
    "\n",
    "\n",
    "\n",
    "We are going to use the dataset **Iron Ore**. Note that:\n",
    "\n",
    "* It was explored in week **05**\n",
    "* We have built SVM, KNN and RF classifiers in week **08**\n",
    "\n",
    "The first part (loading the model until building the RF classifier) was slightly modified from the week 08 notebook **am1-iron-ore-dataset**."
   ]
  },
  {
   "cell_type": "code",
   "execution_count": null,
   "id": "bd2ffb21",
   "metadata": {
    "code_folding": [
     0
    ]
   },
   "outputs": [],
   "source": [
    "# Standard libraries\n",
    "import numpy as np  # written in C, is faster and robust library for numerical and matrix operations\n",
    "import pandas as pd # data manipulation library, it is widely used for data analysis and relies on numpy library.\n",
    "import matplotlib.pyplot as plt # for plotting\n",
    "import seaborn as sns # plot nicely =)\n",
    "\n",
    "# Auxiliar functions\n",
    "from utils import *\n",
    "\n",
    "# the following to lines will tell to the python kernel to always update the kernel for every utils.py\n",
    "# modification, without the need of restarting the kernel.\n",
    "%load_ext autoreload\n",
    "%autoreload 2\n",
    "\n",
    "# using the 'inline' backend, your matplotlib graphs will be included in your notebook, next to the code\n",
    "%matplotlib inline"
   ]
  },
  {
   "cell_type": "markdown",
   "id": "24704f5f",
   "metadata": {},
   "source": [
    "## Loading data"
   ]
  },
  {
   "cell_type": "code",
   "execution_count": null,
   "id": "3e840f74",
   "metadata": {},
   "outputs": [],
   "source": [
    "# reading dataset\n",
    "df = pd.read_csv('../../data/iron_ore_study.csv')\n",
    "df.head()"
   ]
  },
  {
   "cell_type": "code",
   "execution_count": null,
   "id": "926f22b8",
   "metadata": {
    "code_folding": [
     0
    ]
   },
   "outputs": [],
   "source": [
    "# adding label column\n",
    "\n",
    "# Splits from oscar Fe>60%, SiO2<9, Al2O3<2, P<0.08\n",
    "split_points = [\n",
    "    ('FE', 60, [False, True]),\n",
    "    ('SIO2', 9, [True, False]),\n",
    "    ('AL2O3', 2, [True, False]),\n",
    "    ('P', 0.08, [True, False]),  \n",
    "]\n",
    "\n",
    "# It's ore if everything is True\n",
    "df['is_ore'] = np.vstack([\n",
    "    pd.cut(df[elem], bins=[0, split, 100], labels=is_ore)\n",
    "    for elem, split, is_ore in split_points\n",
    "]).sum(axis=0) == 4\n",
    "\n",
    "df.tail()"
   ]
  },
  {
   "cell_type": "markdown",
   "id": "7f455d09",
   "metadata": {},
   "source": [
    "Inspecting data balance. "
   ]
  },
  {
   "cell_type": "code",
   "execution_count": null,
   "id": "7c60f5bf",
   "metadata": {},
   "outputs": [],
   "source": [
    "sns.countplot(x='is_ore', data=df);"
   ]
  },
  {
   "cell_type": "markdown",
   "id": "ec4efe08",
   "metadata": {},
   "source": [
    "Storing features and labels."
   ]
  },
  {
   "cell_type": "code",
   "execution_count": null,
   "id": "6d2a1fee",
   "metadata": {
    "code_folding": []
   },
   "outputs": [],
   "source": [
    "# Storing features and labels\n",
    "\n",
    "X = df.iloc[:,:-1].copy(deep=True)  # our features: all columns but the last\n",
    "y = df[\"is_ore\"].values            # respective labels\n",
    "\n",
    "unique, counts = np.unique(y, return_counts=True)\n",
    "\n",
    "print('is ore == {}:'.format(unique[0]), counts[0])\n",
    "print('is ore == {}:'.format(unique[1]), counts[1])\n",
    "print('Proportion:', round(counts[0] / counts[1], 2), ': 1')"
   ]
  },
  {
   "cell_type": "markdown",
   "id": "ab355117",
   "metadata": {},
   "source": [
    "Now the features (variables) are stored in the Pandas data frame ```X```, and the associated labels are stored in the Numpy 1-D array ```y```. "
   ]
  },
  {
   "cell_type": "code",
   "execution_count": null,
   "id": "5c90d043",
   "metadata": {},
   "outputs": [],
   "source": [
    "# sanity check!\n",
    "\n",
    "display(X.head()) # features (or variables)"
   ]
  },
  {
   "cell_type": "code",
   "execution_count": null,
   "id": "bff5014d",
   "metadata": {},
   "outputs": [],
   "source": [
    "# sanity check! \n",
    "\n",
    "y # labels"
   ]
  },
  {
   "cell_type": "markdown",
   "id": "708faa0b",
   "metadata": {},
   "source": [
    "### Splitting the Data into Train and Test Sets"
   ]
  },
  {
   "cell_type": "code",
   "execution_count": null,
   "id": "b0cf22ce",
   "metadata": {},
   "outputs": [],
   "source": [
    "from sklearn.model_selection import train_test_split \n",
    "\n",
    "x_train, x_test, y_train, y_test = train_test_split(\n",
    "    X, y, test_size=0.3,  random_state=42\n",
    ")"
   ]
  },
  {
   "cell_type": "code",
   "execution_count": null,
   "id": "6d6a65df",
   "metadata": {
    "code_folding": [
     0
    ]
   },
   "outputs": [],
   "source": [
    "# Sanity check: train test split distribution\n",
    "\n",
    "fig, axes = plt.subplots(1,2,figsize=(9,4), sharey=True, constrained_layout=True)\n",
    "\n",
    "i = 0\n",
    "axes[i].set_title(\"y_train\", fontsize=20)\n",
    "sns.countplot(x=y_train, ax=axes[i])\n",
    "\n",
    "i += 1\n",
    "axes[i].set_title(\"y_test\", fontsize=20)\n",
    "sns.countplot(x=y_test, ax=axes[i]);"
   ]
  },
  {
   "cell_type": "markdown",
   "id": "625b91b0",
   "metadata": {},
   "source": [
    "## Random Forest classifier\n",
    "\n",
    "Remember that the RF does not use the concept of distances in a $d$-dimensional space (with $d=$ number of features). So, we do **not** need to standardize the data. "
   ]
  },
  {
   "cell_type": "code",
   "execution_count": null,
   "id": "a994259c",
   "metadata": {},
   "outputs": [],
   "source": [
    "from sklearn.ensemble import RandomForestClassifier # implements random forest.\n",
    "\n",
    "n_trees = 2 # number of trees in the forest.\n",
    "\n",
    "# model definition\n",
    "model = RandomForestClassifier(n_estimators=n_trees, random_state=42)      \n",
    "\n",
    "# model training\n",
    "model.fit(x_train, y_train)"
   ]
  },
  {
   "cell_type": "markdown",
   "id": "db184516",
   "metadata": {},
   "source": [
    "Prediction using test data:"
   ]
  },
  {
   "cell_type": "code",
   "execution_count": null,
   "id": "db0b7082",
   "metadata": {},
   "outputs": [],
   "source": [
    "y_pred = model.predict(x_test)  "
   ]
  },
  {
   "cell_type": "markdown",
   "id": "87cc96ec",
   "metadata": {},
   "source": [
    "## Model evaluation"
   ]
  },
  {
   "cell_type": "code",
   "execution_count": null,
   "id": "7cb768d7",
   "metadata": {},
   "outputs": [],
   "source": [
    "from sklearn.metrics import accuracy_score, confusion_matrix, classification_report  "
   ]
  },
  {
   "cell_type": "code",
   "execution_count": null,
   "id": "f876642f",
   "metadata": {},
   "outputs": [],
   "source": [
    "print(f\"RF train accuracy: {model.score(x_train, y_train):.3f}\")\n",
    "print(f\"RF test accuracy: {model.score(x_test, y_test):.3f}\")"
   ]
  },
  {
   "cell_type": "markdown",
   "id": "e6ddd23d",
   "metadata": {},
   "source": [
    "We can print a detailed model report!"
   ]
  },
  {
   "cell_type": "code",
   "execution_count": null,
   "id": "b52a8c07",
   "metadata": {},
   "outputs": [],
   "source": [
    "# Detailed model report\n",
    "\n",
    "from sklearn import  metrics\n",
    "\n",
    "print(f\"Classification report for the classifier\\n\"\n",
    "      f\"{classification_report(y_test, y_pred)}\\n\")"
   ]
  },
  {
   "cell_type": "markdown",
   "id": "d74293e4",
   "metadata": {},
   "source": [
    "The above metrics just summarize different nuances of the confusion matrix. Remember to plot that matrix to get more insight!"
   ]
  },
  {
   "cell_type": "code",
   "execution_count": null,
   "id": "45e54269",
   "metadata": {
    "code_folding": [
     0
    ]
   },
   "outputs": [],
   "source": [
    "# Confusion matrix\n",
    "\n",
    "cm = confusion_matrix(y_test,y_pred)\n",
    "\n",
    "sns.heatmap(cm,annot=True,fmt=\"d\")\n",
    "plt.xlabel(\"Actual class\")\n",
    "plt.ylabel(\"predicted class\");"
   ]
  },
  {
   "cell_type": "markdown",
   "id": "ae9fbe76",
   "metadata": {},
   "source": [
    "# \"Feature Importance\"\n",
    "\n",
    "For a in-depth discution about Permutation Importance *vs* Random Forest Feature Importance follow this [link](https://scikit-learn.org/stable/auto_examples/inspection/plot_permutation_importance.html#sphx-glr-auto-examples-inspection-plot-permutation-importance-py)."
   ]
  },
  {
   "cell_type": "markdown",
   "id": "1e6efcf8",
   "metadata": {},
   "source": [
    "## Random Forest Feature Importance"
   ]
  },
  {
   "cell_type": "code",
   "execution_count": null,
   "id": "959c8a45",
   "metadata": {
    "code_folding": [
     0
    ]
   },
   "outputs": [],
   "source": [
    "# Random Forest feature importance \n",
    "#   from Mean Decrease in Impurity (MDI)\n",
    "\n",
    "feature_names = X.columns.to_numpy()\n",
    "\n",
    "# computing and storing result in a Pandas Series\n",
    "mdi_importances = pd.Series(\n",
    "    model.feature_importances_, index=feature_names\n",
    ").sort_values(ascending=True)\n",
    "\n",
    "# plotting\n",
    "ax = mdi_importances.plot.barh()\n",
    "ax.set_title(\"Random Forest Feature Importances (MDI, training set)\")\n",
    "ax.figure.tight_layout()"
   ]
  },
  {
   "cell_type": "markdown",
   "id": "a333060d",
   "metadata": {},
   "source": [
    "## Permutation Importance"
   ]
  },
  {
   "cell_type": "code",
   "execution_count": null,
   "id": "625105e5",
   "metadata": {
    "code_folding": [
     0
    ]
   },
   "outputs": [],
   "source": [
    "# Permutation Importance\n",
    "\n",
    "from sklearn.inspection import permutation_importance\n",
    "\n",
    "# computing permutation importance\n",
    "pmi_res = permutation_importance(\n",
    "    model, x_test, y_test, n_repeats=10, \n",
    "    random_state=42\n",
    ")\n",
    "\n",
    "# Storing result\n",
    "sorted_importances_idx = pmi_res.importances_mean.argsort()\n",
    "pmi_importances = pd.DataFrame(\n",
    "    pmi_res.importances[sorted_importances_idx].T,\n",
    "    columns=feature_names[sorted_importances_idx],\n",
    ")\n",
    "\n",
    "# plotting\n",
    "\n",
    "ax = pmi_importances.plot.box(vert=False, whis=10)\n",
    "ax.set_title(\"Permutation Importances (test set)\")\n",
    "ax.axvline(x=0, color=\"k\", linestyle=\"--\")\n",
    "ax.set_xlabel(\"Decrease in accuracy score\")\n",
    "ax.figure.tight_layout()"
   ]
  },
  {
   "cell_type": "markdown",
   "id": "a09e8ede",
   "metadata": {},
   "source": [
    "# Visualizing the decision tree"
   ]
  },
  {
   "cell_type": "code",
   "execution_count": null,
   "id": "b5176421",
   "metadata": {
    "code_folding": [
     0
    ]
   },
   "outputs": [],
   "source": [
    "# Visualizing the decision tree\n",
    "\n",
    "from sklearn import tree\n",
    "\n",
    "cn= [\"%s\"%i for i in np.unique(y_train)] #[\"False\",\"True\"]\n",
    "\n",
    "fig, axes = plt.subplots(1,2,figsize = (16,10))\n",
    "\n",
    "# plotting only two trees!\n",
    "for index in range(0, 2):\n",
    "    tree.plot_tree(model.estimators_[index],\n",
    "                   feature_names = feature_names, \n",
    "                   class_names=cn,\n",
    "                   filled = True,\n",
    "                   ax = axes[index]);\n",
    "    \n",
    "    axes[index].set_title('Estimator: ' + str(index), fontsize = 11)\n",
    "    \n",
    "fig.savefig(\"plotting_decision_trees.pdf\")"
   ]
  },
  {
   "cell_type": "code",
   "execution_count": null,
   "id": "1bc10f44",
   "metadata": {},
   "outputs": [],
   "source": []
  },
  {
   "cell_type": "code",
   "execution_count": null,
   "id": "82138b8c",
   "metadata": {},
   "outputs": [],
   "source": []
  },
  {
   "cell_type": "code",
   "execution_count": null,
   "id": "a8586fb1",
   "metadata": {},
   "outputs": [],
   "source": []
  }
 ],
 "metadata": {
  "kernelspec": {
   "display_name": "Python 3 (ipykernel)",
   "language": "python",
   "name": "python3"
  },
  "language_info": {
   "codemirror_mode": {
    "name": "ipython",
    "version": 3
   },
   "file_extension": ".py",
   "mimetype": "text/x-python",
   "name": "python",
   "nbconvert_exporter": "python",
   "pygments_lexer": "ipython3",
   "version": "3.9.12"
  },
  "toc": {
   "base_numbering": 1,
   "nav_menu": {},
   "number_sections": true,
   "sideBar": true,
   "skip_h1_title": false,
   "title_cell": "Table of Contents",
   "title_sidebar": "Contents",
   "toc_cell": false,
   "toc_position": {},
   "toc_section_display": true,
   "toc_window_display": true
  }
 },
 "nbformat": 4,
 "nbformat_minor": 5
}
